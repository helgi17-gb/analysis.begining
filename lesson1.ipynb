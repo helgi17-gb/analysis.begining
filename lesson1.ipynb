{
 "cells": [
  {
   "cell_type": "markdown",
   "metadata": {},
   "source": [
    "# Практическое задание к уроку 2"
   ]
  },
  {
   "cell_type": "markdown",
   "metadata": {},
   "source": [
    "## Тема \"Введение в математический анализ\""
   ]
  },
  {
   "cell_type": "markdown",
   "metadata": {},
   "source": [
    "### Задание 1"
   ]
  },
  {
   "cell_type": "markdown",
   "metadata": {},
   "source": [
    "Как относятся друг к другу множество и последовательность? (в ответе использовать слова типа: часть, целое, общее, частное, родитель, дочерний субъект и т.д.)"
   ]
  },
  {
   "cell_type": "markdown",
   "metadata": {},
   "source": [
    "В этом вопросе нужно определиться какое множество и какую последовательность мы имеем в виду.\n",
    "1. Множество действительных чисел и последовательность $a_n=\\frac{1}{n}$.\n",
    "В этом случае последовательность является частью множества (подмножеством)\n",
    "2. Множество натуральных чисел и та же последовательность $a_n=\\frac{1}{n}$.\n",
    "Последовательность и множество имеют общую часть: число 1.\n",
    "3. Множество всех последовательностей над множеством действительных чисел безусловно имеет своей частью выбранную последовательность $a_n=\\frac{1}{n}$.\n",
    "4. Конечное множество $\\{1;0,5\\}$ из первых двух членов выбранной последовательности $a_n=\\frac{1}{n}$ является частью данной последовательности."
   ]
  },
  {
   "cell_type": "markdown",
   "metadata": {},
   "source": [
    "### Задание 2"
   ]
  },
  {
   "cell_type": "markdown",
   "metadata": {},
   "source": [
    "Прочитать высказывания математической логики, построить их отрицания и установить истинность."
   ]
  },
  {
   "cell_type": "markdown",
   "metadata": {},
   "source": [
    "------------------------------------"
   ]
  },
  {
   "cell_type": "markdown",
   "metadata": {},
   "source": [
    "Высказывание:"
   ]
  },
  {
   "cell_type": "markdown",
   "metadata": {},
   "source": [
    "$$\\forall y \\in [0;1]: sgn(y)=1$$"
   ]
  },
  {
   "cell_type": "markdown",
   "metadata": {},
   "source": [
    "Для всех чисел отрезка [0;1] функция sgn() равняется единице. (Все числа отрезка [0;1] больше 0)"
   ]
  },
  {
   "cell_type": "markdown",
   "metadata": {},
   "source": [
    "Отрицание:"
   ]
  },
  {
   "cell_type": "markdown",
   "metadata": {},
   "source": [
    "$$\\exists y \\in [0;1]: sgn(y)\\not=1$$"
   ]
  },
  {
   "cell_type": "markdown",
   "metadata": {},
   "source": [
    "Исходное высказывание ложно. При $y=0$ функция $sgn(0)=0$"
   ]
  },
  {
   "cell_type": "markdown",
   "metadata": {},
   "source": [
    "--------------"
   ]
  },
  {
   "cell_type": "markdown",
   "metadata": {},
   "source": [
    "Высказывание:"
   ]
  },
  {
   "cell_type": "markdown",
   "metadata": {},
   "source": [
    "$$\\forall n \\in \\mathbb{N}>2:\\exists x,y,z \\in \\mathbb{N}:x^n=y^n+z^n$$"
   ]
  },
  {
   "cell_type": "markdown",
   "metadata": {},
   "source": [
    "Для любого натурального числа n большего двух, найдутся такие натуральные числа $x$, $y$, $z$ для которых будет справедливо равенство: $x^n=y^n+z^n$"
   ]
  },
  {
   "cell_type": "markdown",
   "metadata": {},
   "source": [
    "Отрицание:"
   ]
  },
  {
   "cell_type": "markdown",
   "metadata": {},
   "source": [
    "$$\\exists n \\in \\mathbb{N}>2:\\forall x,y,z \\in \\mathbb{N}: x^n\\not=y^n+z^n$$"
   ]
  },
  {
   "cell_type": "markdown",
   "metadata": {},
   "source": [
    "Исходное высказывание ложно. Доказать не смогу. Сошлюсь на теорему Ферма."
   ]
  },
  {
   "cell_type": "markdown",
   "metadata": {},
   "source": [
    "------------------------------------"
   ]
  },
  {
   "cell_type": "markdown",
   "metadata": {},
   "source": [
    "Высказывание:"
   ]
  },
  {
   "cell_type": "markdown",
   "metadata": {},
   "source": [
    "$$\\forall x \\in \\mathbb{R} \\exists X \\in \\mathbb{R}:X>x$$"
   ]
  },
  {
   "cell_type": "markdown",
   "metadata": {},
   "source": [
    "Для любого действительного числа $x$ найдется действительное число $X$ большее x."
   ]
  },
  {
   "cell_type": "markdown",
   "metadata": {},
   "source": [
    "Отрицание:"
   ]
  },
  {
   "cell_type": "markdown",
   "metadata": {},
   "source": [
    "$$\\exists x \\in \\mathbb{R}\\forall X \\in \\mathbb{R}: X\\leq x$$"
   ]
  },
  {
   "cell_type": "markdown",
   "metadata": {},
   "source": [
    "Исходное высказывание истинно. Допустим, что такого числа $X$ не существует. Но для любого $x$, $x+1 > x$ и $x+1 \\in \\mathbb{R}$. Получили противоречие."
   ]
  },
  {
   "cell_type": "markdown",
   "metadata": {},
   "source": [
    "------------------------------------"
   ]
  },
  {
   "cell_type": "markdown",
   "metadata": {},
   "source": [
    "Высказывание:"
   ]
  },
  {
   "cell_type": "markdown",
   "metadata": {},
   "source": [
    "$$\\forall x \\in  \\mathbb{C} \\nexists y \\in \\mathbb{C}:x>y||x<y$$"
   ]
  },
  {
   "cell_type": "markdown",
   "metadata": {},
   "source": [
    "Для любого комплексного числа $x$ не существует комплексного числа $y$ такого, что либо $x>y$, либо $x<y$."
   ]
  },
  {
   "cell_type": "markdown",
   "metadata": {},
   "source": [
    "Отрицание:"
   ]
  },
  {
   "cell_type": "markdown",
   "metadata": {},
   "source": [
    "$$\\exists x \\in \\mathbb{C}\\exists y \\in \\mathbb{C}: x>y||x<y$$"
   ]
  },
  {
   "cell_type": "markdown",
   "metadata": {},
   "source": [
    "<em>По идее, здесь предикат $\\nexists y \\in \\mathbb{C}:x>y||x<y$, заменяется отрицанием</em>"
   ]
  },
  {
   "cell_type": "markdown",
   "metadata": {},
   "source": [
    "Исходное высказывание верное. Для комплексных чисел не существует операций сравнения."
   ]
  },
  {
   "cell_type": "markdown",
   "metadata": {},
   "source": [
    "------------------------------------"
   ]
  },
  {
   "cell_type": "markdown",
   "metadata": {},
   "source": [
    "Высказывание:"
   ]
  },
  {
   "cell_type": "markdown",
   "metadata": {},
   "source": [
    "$$\\forall y \\in \\left[0;\\frac{\\pi}{2}\\right]\\exists \\epsilon >0:\\sin y<\\sin(y+\\epsilon)$$"
   ]
  },
  {
   "cell_type": "markdown",
   "metadata": {},
   "source": [
    "Для всех чисел отрезка $\\left[0;\\frac{\\pi}{2}\\right]$ существует число $\\epsilon$ такое, что $\\sin y < \\sin(y+\\epsilon)$."
   ]
  },
  {
   "cell_type": "markdown",
   "metadata": {},
   "source": [
    "Отрицание:"
   ]
  },
  {
   "cell_type": "markdown",
   "metadata": {},
   "source": [
    "$$\\exists y \\in \\left[0;\\frac{\\pi}{2}\\right]\\forall \\epsilon >0:\\sin y \\geq \\sin(y+\\epsilon)$$"
   ]
  },
  {
   "cell_type": "markdown",
   "metadata": {},
   "source": [
    "Исходное высказывание ложно, так как для $y=\\frac{\\pi}{2}$ нельзя найти такое число $\\epsilon>0$, так что $\\sin(\\frac{\\pi}{2})<\\sin(\\frac{\\pi}{2}+\\epsilon)$. В этой точке функция $\\sin$ достигает своего максимума."
   ]
  },
  {
   "cell_type": "markdown",
   "metadata": {},
   "source": [
    "------------------------------------"
   ]
  },
  {
   "cell_type": "markdown",
   "metadata": {},
   "source": [
    "Высказывание:"
   ]
  },
  {
   "cell_type": "markdown",
   "metadata": {},
   "source": [
    "$$\\forall y \\in \\left[0;\\pi\\right]\\exists \\epsilon >0:\\cos y>\\cos(y+\\epsilon)$$"
   ]
  },
  {
   "cell_type": "markdown",
   "metadata": {},
   "source": [
    "Для всех чисел отрезка $\\left[0;\\pi\\right]$ существует число $\\epsilon$ такое, что $\\cos y < \\cos(y+\\epsilon)$."
   ]
  },
  {
   "cell_type": "markdown",
   "metadata": {},
   "source": [
    "Отрицание:"
   ]
  },
  {
   "cell_type": "markdown",
   "metadata": {},
   "source": [
    "$$\\exists y \\in \\left[0;\\pi \\right]\\forall \\epsilon >0: \\cos y \\leq \\cos(y+\\epsilon)$$"
   ]
  },
  {
   "cell_type": "markdown",
   "metadata": {},
   "source": [
    "Исходное высказывание ложно, так как в точке $y=\\pi$, функция $\\cos(\\pi)$ достигает своего минимума и не может быть $\\cos(\\pi)>\\cos(\\pi+\\epsilon)$."
   ]
  },
  {
   "cell_type": "markdown",
   "metadata": {},
   "source": [
    "------------------------------------"
   ]
  },
  {
   "cell_type": "markdown",
   "metadata": {},
   "source": [
    "Высказывание:"
   ]
  },
  {
   "cell_type": "markdown",
   "metadata": {},
   "source": [
    "$$\\exists x:x \\notin \\{\\mathbb{N},\\mathbb{Z},\\mathbb{Q},\\mathbb{R},\\mathbb{C}\\} $$"
   ]
  },
  {
   "cell_type": "markdown",
   "metadata": {},
   "source": [
    "Существуют такие x, которые не являются ни натуральными, ни целыми, ни рациональными, ни действительными, ни комплексными."
   ]
  },
  {
   "cell_type": "markdown",
   "metadata": {},
   "source": [
    "Отрицание:"
   ]
  },
  {
   "cell_type": "markdown",
   "metadata": {},
   "source": [
    "$$\\forall x: x \\in \\mathbb{N}||\\mathbb{Z}||\\mathbb{Q}||\\mathbb{R}||\\mathbb{C}$$"
   ]
  },
  {
   "cell_type": "markdown",
   "metadata": {},
   "source": [
    "Исходное высказывание истино. Достаточно привести в пример бабочек. Вы  когда-нибудь видели комплексных бабочек? Хотя целых бабочек я, конечно, видел. Хорошо, тогда кватернионы."
   ]
  },
  {
   "cell_type": "markdown",
   "metadata": {},
   "source": [
    "## Тема \"Множество\""
   ]
  },
  {
   "cell_type": "markdown",
   "metadata": {},
   "source": [
    "### Задание 1"
   ]
  },
  {
   "cell_type": "markdown",
   "metadata": {},
   "source": [
    "Даны три множества a,b и с. Необходимо выполнить все изученные виды бинарных операций над всеми комбинациями множеств."
   ]
  },
  {
   "cell_type": "markdown",
   "metadata": {},
   "source": [
    "Объединение, пересечение, разность, симметрическая разность."
   ]
  },
  {
   "cell_type": "markdown",
   "metadata": {},
   "source": [
    "a = {1, 2, 3}\n",
    "\n",
    "b = {2, 3, 4}\n",
    "\n",
    "c = {5, 6, 2}\n",
    "\n",
    "\n",
    "Объединение\n",
    "\n",
    "| $\\cup$ | a | b | c |\n",
    "|----|----|---|--------|\n",
    "| a      | {1, 2, 3} | {1, 2, 3, 4} | {1, 2, 3, 5, 6} |\n",
    "| b      |  {1, 2, 3, 4} | {2, 3, 4} | {2, 3, 4, 5, 6} |\n",
    "| c      |  {1, 2, 3, 5, 6}  | {2, 3, 4, 5, 6} | {5, 6, 2}  |\n",
    "-------------------------\n",
    "\n",
    "\n",
    "Пересечение\n",
    "\n",
    "| $\\cap$ | a | b | c |\n",
    "|----|----|---|---|\n",
    "| a      | {1, 2, 3} | {2, 3} | {2} |\n",
    "| b      |  {2,3} | {2, 3, 4} | {2} |\n",
    "| c      |  {2}  | {2} | {5, 6, 2}  |\n",
    "|--------|----|-----|---------|\n",
    "\n",
    "\n",
    "Разность\n",
    "\n",
    "| \\ | a | b | c |\n",
    "|----|----|---|---|\n",
    "| a      | {} | {1} | {1, 3} |\n",
    "| b      |  {4} | {} | {3, 4} |\n",
    "| c      |  {5, 6}  | {5, 6} | {}  |\n",
    "|--------|----|-----|---------|\n",
    "\n",
    "\n",
    "Симметрическая разность\n",
    "\n",
    "| $\\Delta$ | a | b | c |\n",
    "|----|----|---|---|\n",
    "| a      | {} | {1, 4} | {1, 3, 5, 6} |\n",
    "| b      |  {1, 4} | {} | {3, 4, 5, 6} |\n",
    "| c      |  {1, 3, 5, 6}  | {3, 4, 5, 6} | {}  |\n",
    "|--------|----|-----|---------|"
   ]
  },
  {
   "cell_type": "markdown",
   "metadata": {},
   "source": [
    "### Задание 2"
   ]
  },
  {
   "cell_type": "code",
   "execution_count": 53,
   "metadata": {},
   "outputs": [
    {
     "name": "stdout",
     "output_type": "stream",
     "text": [
      "Объединение\n",
      "{1, 2, 3} || {1, 2, 3} = {1, 2, 3} \n",
      "{2, 3, 4} || {1, 2, 3} = {1, 2, 3, 4} \n",
      "{2, 5, 6} || {1, 2, 3} = {1, 2, 3, 5, 6} \n",
      "\n",
      "{1, 2, 3} || {2, 3, 4} = {1, 2, 3, 4} \n",
      "{2, 3, 4} || {2, 3, 4} = {2, 3, 4} \n",
      "{2, 5, 6} || {2, 3, 4} = {2, 3, 4, 5, 6} \n",
      "\n",
      "{1, 2, 3} || {2, 5, 6} = {1, 2, 3, 5, 6} \n",
      "{2, 3, 4} || {2, 5, 6} = {2, 3, 4, 5, 6} \n",
      "{2, 5, 6} || {2, 5, 6} = {2, 5, 6} \n",
      "\n",
      "Пересечение\n",
      "{1, 2, 3} & {1, 2, 3} = {1, 2, 3} \n",
      "{2, 3, 4} & {1, 2, 3} = {2, 3} \n",
      "{2, 5, 6} & {1, 2, 3} = {2} \n",
      "\n",
      "{1, 2, 3} & {2, 3, 4} = {2, 3} \n",
      "{2, 3, 4} & {2, 3, 4} = {2, 3, 4} \n",
      "{2, 5, 6} & {2, 3, 4} = {2} \n",
      "\n",
      "{1, 2, 3} & {2, 5, 6} = {2} \n",
      "{2, 3, 4} & {2, 5, 6} = {2} \n",
      "{2, 5, 6} & {2, 5, 6} = {2, 5, 6} \n",
      "\n",
      "Разность\n",
      "{1, 2, 3} \\ {1, 2, 3} = set() \n",
      "{2, 3, 4} \\ {1, 2, 3} = {4} \n",
      "{2, 5, 6} \\ {1, 2, 3} = {5, 6} \n",
      "\n",
      "{1, 2, 3} \\ {2, 3, 4} = {1} \n",
      "{2, 3, 4} \\ {2, 3, 4} = set() \n",
      "{2, 5, 6} \\ {2, 3, 4} = {5, 6} \n",
      "\n",
      "{1, 2, 3} \\ {2, 5, 6} = {1, 3} \n",
      "{2, 3, 4} \\ {2, 5, 6} = {3, 4} \n",
      "{2, 5, 6} \\ {2, 5, 6} = set() \n",
      "\n",
      "Симметрическая разность\n",
      "{1, 2, 3} Δ {1, 2, 3} = set() \n",
      "{2, 3, 4} Δ {1, 2, 3} = {1, 4} \n",
      "{2, 5, 6} Δ {1, 2, 3} = {1, 3, 5, 6} \n",
      "\n",
      "{1, 2, 3} Δ {2, 3, 4} = {1, 4} \n",
      "{2, 3, 4} Δ {2, 3, 4} = set() \n",
      "{2, 5, 6} Δ {2, 3, 4} = {3, 4, 5, 6} \n",
      "\n",
      "{1, 2, 3} Δ {2, 5, 6} = {1, 3, 5, 6} \n",
      "{2, 3, 4} Δ {2, 5, 6} = {3, 4, 5, 6} \n",
      "{2, 5, 6} Δ {2, 5, 6} = set() \n",
      "\n"
     ]
    }
   ],
   "source": [
    "a = set([1, 2, 3])\n",
    "b = set([2, 3, 4])\n",
    "c = set([5, 6, 2])\n",
    "\n",
    "def union(a, b):\n",
    "    return a.union(b);\n",
    "\n",
    "def intersection(a, b):\n",
    "    return a.intersection(b)\n",
    "\n",
    "def difference(a, b):\n",
    "    return a.difference(b)\n",
    "\n",
    "def symmetric_difference(a, b):\n",
    "    return a.symmetric_difference(b)\n",
    "\n",
    "function_set = [{'name': 'Объединение', 'function': union, 'sign': '||'}, \n",
    "                {'name': 'Пересечение', 'function': intersection, 'sign': '&'}, \n",
    "                {'name': 'Разность', 'function': difference, 'sign':'\\\\'}, \n",
    "                {'name': 'Симметрическая разность', 'function': symmetric_difference, 'sign': '\\u0394'}]\n",
    "\n",
    "\n",
    "\n",
    "for f in function_set:\n",
    "    print(f['name'])\n",
    "    for s_y in [a, b, c]:\n",
    "        for s_x in [a, b, c]:\n",
    "            print(f\"{s_x} {f['sign']} {s_y} = {f['function'](s_x, s_y)} \")\n",
    "        print()"
   ]
  },
  {
   "cell_type": "code",
   "execution_count": null,
   "metadata": {},
   "outputs": [],
   "source": []
  },
  {
   "cell_type": "code",
   "execution_count": null,
   "metadata": {},
   "outputs": [],
   "source": []
  }
 ],
 "metadata": {
  "kernelspec": {
   "display_name": "Python 3",
   "language": "python",
   "name": "python3"
  },
  "language_info": {
   "codemirror_mode": {
    "name": "ipython",
    "version": 3
   },
   "file_extension": ".py",
   "mimetype": "text/x-python",
   "name": "python",
   "nbconvert_exporter": "python",
   "pygments_lexer": "ipython3",
   "version": "3.8.0"
  }
 },
 "nbformat": 4,
 "nbformat_minor": 4
}
