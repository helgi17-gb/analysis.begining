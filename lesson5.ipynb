{
 "cells": [
  {
   "cell_type": "markdown",
   "metadata": {},
   "source": [
    "# Практическое задание к уроку 4\n",
    "\n",
    "## Тема “Предел функции”\n",
    "\n",
    "### Задание 4\n",
    "\n",
    "Найти предел:\n",
    "\n",
    "c. $\\displaystyle \\lim_{x\\to \\infty}\\left(\\frac{x+3}{x}\\right)^{4x+1}$\n"
   ]
  },
  {
   "cell_type": "markdown",
   "metadata": {},
   "source": [
    "$\\displaystyle \\lim_{x\\to \\infty}\\left(\\frac{x+3}{x}\\right)^{4x+1} = \\lim_{x\\to \\infty}\\left(1+\\frac{1}{\\frac{x}{3}}\\right)^{4x+1}= \\lim_{x\\to \\infty}\\left(1+\\frac{1}{\\frac{x}{3}}\\right)^{4x\\frac{3}{3}+1}= \\lim_{x\\to \\infty}\\left(1+\\frac{1}{\\frac{x}{3}}\\right)^{4\\cdot3\\frac{x}{3}+1}=$\n",
    "$\\displaystyle = \\lim_{x\\to \\infty}\\left(1+\\frac{1}{\\frac{x}{3}}\\right)^{12\\frac{x}{3}}\\left(1+\\frac{1}{\\frac{x}{3}}\\right)=\\lim_{x\\to \\infty}\\left[\\left(1+\\frac{1}{\\frac{x}{3}}\\right)^{\\frac{x}{3}}\\right]^{12}=e^{12}$"
   ]
  },
  {
   "cell_type": "markdown",
   "metadata": {},
   "source": [
    "## Тема “Теоремы о пределах”\n",
    "\n",
    "### Задание 1\n",
    "\n",
    "Найти предел:\n",
    "\n",
    "d. $\\displaystyle \\lim_{x\\to\\infty}\\left(\\frac{4x+3}{4x-3}\\right)^{6x}=\\lim_{x\\to\\infty}\\left(\\frac{4+\\frac{3}{x}}{4-\\frac{3}{x}}\\right)^{6x}=\\lim_{x\\to\\infty}\\left(1\\right)^{6x}=1$\n",
    "\n",
    "e. $\\displaystyle\\lim_{x\\to\\infty}\\frac{\\sin x+\\ln x}{x}=\\lim_{x\\to\\infty}\\frac{\\sin x}{x}+\\lim_{x\\to\\infty}\\frac{\\ln x}{x}=0+0=0$\n",
    "\n",
    "во втором слагаемом знаменатель, линейная функция, растет быстрее числителя. \n",
    "\n",
    "f. $\\displaystyle\\lim_{x\\to 0}\\frac{\\sin x + \\ln x}{x}=\\lim_{x\\to 0}\\frac{\\sin x}{x} + \\lim_{x\\to 0}\\frac{\\ln x}{x}=1+\\frac{-\\infty}{0}=-\\infty$"
   ]
  },
  {
   "cell_type": "markdown",
   "metadata": {},
   "source": [
    "## Тема 6 “Понятие о производной”\n",
    "\n",
    "### Задание 1\n",
    "\n",
    "Найти производную выражения:\n",
    "\n",
    "a. $(\\sin x\\cdot\\cos x)'=(\\sin x)'\\cdot \\cos x + \\sin x\\cdot(\\cos x)'=\\cos x\\cos x+\\sin x(-\\sin x) = \\cos^2 x-\\sin^2 x =$\n",
    "$=1-2\\sin^2 x$\n",
    "\n",
    "b. $\\displaystyle\\left(\\ln(2x+1)^3\\right)'=\\frac{1}{(2x+1)^3}\\cdot 3\\cdot(2x+1)^2\\cdot 2=\\frac{6}{2x+1}$\n",
    "\n",
    "c. $\\displaystyle\\left(\\sqrt{\\sin^2\\left(\\ln(x^3)\\right)}\\right)'=\\frac{1}{2}\\cdot\\frac{1}{\\sqrt{\\sin^2\\left(\\ln(x^3)\\right)}}\\cdot 2\\cdot \\sin\\left(\\ln(x^3)\\right)\\cdot \\cos\\left(\\ln(x^3)\\right)\\cdot\\frac{1}{x^3}\\cdot 3\\cdot x^2 =$\n",
    "$\\displaystyle=\\frac{\\sin\\left(\\ln(x^3)\\right)}{\\left|\\sin\\left(\\ln(x^3)\\right)\\right|}\\cdot\\cos\\left(\\ln(x^3)\\right)\\cdot\\frac{3}{x}=\\frac{3\\cdot\\sin\\left(2\\ln(x^3)\\right)}{2x\\cdot\\left|\\sin\\left(\\ln(x^3)\\right)\\right|}$\n",
    "\n",
    "d. $\\displaystyle\\left(\\frac{x^4}{\\ln(x)}\\right)'=\\frac{\\left(x^4\\right)'\\ln(x)-x^4\\left(\\ln x\\right)'}{\\ln^2(x)}=\\frac{4x^3\\ln(x)-x^4\\frac{1}{x}}{\\ln^2(x)}=\\frac{x^3\\left(4\\ln(x)-1\\right)}{\\ln^2(x)}$"
   ]
  }
 ],
 "metadata": {
  "kernelspec": {
   "display_name": "Python 3",
   "language": "python",
   "name": "python3"
  },
  "language_info": {
   "codemirror_mode": {
    "name": "ipython",
    "version": 3
   },
   "file_extension": ".py",
   "mimetype": "text/x-python",
   "name": "python",
   "nbconvert_exporter": "python",
   "pygments_lexer": "ipython3",
   "version": "3.8.0"
  }
 },
 "nbformat": 4,
 "nbformat_minor": 4
}
