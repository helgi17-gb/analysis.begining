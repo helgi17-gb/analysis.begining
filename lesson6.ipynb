{
 "cells": [
  {
   "cell_type": "markdown",
   "metadata": {},
   "source": [
    "# Урок 6\n",
    "\n",
    "## Тема 6 “Понятие о производной”\n",
    "\n",
    "### Задание 1\n",
    "\n",
    "Найти производную выражения:"
   ]
  },
  {
   "cell_type": "markdown",
   "metadata": {},
   "source": [
    "### Задание 2\n",
    "\n",
    "Найти выражение производной функции и ее значение в точке:\n",
    "\n",
    "$f(x)=\\cos\\left(x^2+3x\\right)$, $x_0=\\sqrt{\\pi}$"
   ]
  },
  {
   "cell_type": "markdown",
   "metadata": {},
   "source": [
    "$f'(x)=-\\sin\\left(x^2+3x\\right)\\cdot(2x+3)$\n",
    "\n",
    "$f'(x_0)=-\\sin\\left(\\pi+3\\sqrt{\\pi}\\right)\\cdot(2\\sqrt{\\pi}+3)=\\sin\\left(\\frac{3}{\\sqrt{\\pi}}\\right)\\cdot(2\\sqrt{\\pi}+3)$"
   ]
  },
  {
   "cell_type": "markdown",
   "metadata": {},
   "source": [
    "### Задание 3\n",
    "\n",
    "Найти значение производной функции в точке:\n",
    "\n",
    "$\\displaystyle f(x)=\\frac{x^3-x^2-x-1}{1+2x+3x^2-4x^3}$, $x_0=0$\n",
    "\n",
    "$\\displaystyle f'(x)=\\frac{(3x^2-2x-1)(1+2x+3x^2-4x^3)-(x^3-x^2-x-1)(-12x^2+6x+2)}{(1+2x+3x^2-4x^3)^2}$"
   ]
  },
  {
   "cell_type": "markdown",
   "metadata": {},
   "source": [
    "Уже на этом этапе можно увидеть, что производная $f'(x_0)=f'(0)$ будет зависеть только от итогового свободного члена в числителе и знаменателе. В числителе он будет равен 1-(-2)=1, а в знаменателе, будет равен 1. Значит $f'(0)=\\frac{1}{1}=1$\n",
    "\n",
    "Но можно раскрыть все скобки и найти помимо этого производную:"
   ]
  },
  {
   "cell_type": "markdown",
   "metadata": {},
   "source": [
    "$f'(x)=\\frac{(-12x^5+8x^4+4x^3+9x^4-6x^3-3x^2+6x^3-4x^2-2x+3x^2-2x-1)-(-12x^5+12x^4+12x^3+12x^2+6x^4-6x^3-6x^2-6x+2x^3-2x^2-2x-2)}{(16x^6-12x^5-8x^4-4x^3-12x^5+9x^4+6x^3+3x^2-8x^4+6x^3+4x^2+2x-4x^3+3x^2+2x+1)}$"
   ]
  },
  {
   "cell_type": "markdown",
   "metadata": {},
   "source": [
    "$f'(x)=\\frac{(-12x^5+17x^4+4x^3-4x^2-4x-1)-(-12x^5+18x^4+8x^3+4x^2-8x-2)}{16x^6-24x^5-7x^4+4x^3+10x^2+4x+1}$"
   ]
  },
  {
   "cell_type": "markdown",
   "metadata": {},
   "source": [
    "$f'(x)=\\frac{-x^4-4x^3-8x^2+4x+1}{16x^6-24x^5-7x^4+4x^3+10x^2+4x+1}$"
   ]
  },
  {
   "cell_type": "markdown",
   "metadata": {},
   "source": [
    "### Задание 4\n",
    "\n",
    "Найти угол наклона касательной к графику функции в точке:\n",
    "\n",
    "$f(x)=\\sqrt{3x}\\cdot\\ln x$, $x_0=1$"
   ]
  },
  {
   "cell_type": "markdown",
   "metadata": {},
   "source": [
    "$f'(x)=\\frac{1}{2\\sqrt{3x}}\\cdot3\\cdot\\ln x+\\sqrt{3x}\\cdot\\frac{1}{x}$"
   ]
  },
  {
   "cell_type": "markdown",
   "metadata": {},
   "source": [
    "$f'(x)=\\frac{3\\sqrt{3x}}{6x}\\cdot\\ln x+\\frac{\\sqrt{3x}}{x}$"
   ]
  },
  {
   "cell_type": "markdown",
   "metadata": {},
   "source": [
    "$f'(x)=\\frac{\\sqrt{3x}}{x}\\left(\\frac{1}{2}\\ln x+1\\right)$"
   ]
  },
  {
   "cell_type": "markdown",
   "metadata": {},
   "source": [
    "$f'(x_0)=f'(1)=\\frac{\\sqrt{3}}{1}(0+1)=\\sqrt{3}$"
   ]
  },
  {
   "cell_type": "markdown",
   "metadata": {},
   "source": [
    "Значение производной в точке - тангенс угла наклона касательной. Значит угол наклона касательной в точке $x_0$ будет равен $\\displaystyle \\arctan\\left(\\sqrt{3}\\right)=60^\\circ$"
   ]
  },
  {
   "cell_type": "code",
   "execution_count": null,
   "metadata": {},
   "outputs": [],
   "source": []
  }
 ],
 "metadata": {
  "kernelspec": {
   "display_name": "Python 3",
   "language": "python",
   "name": "python3"
  },
  "language_info": {
   "codemirror_mode": {
    "name": "ipython",
    "version": 3
   },
   "file_extension": ".py",
   "mimetype": "text/x-python",
   "name": "python",
   "nbconvert_exporter": "python",
   "pygments_lexer": "ipython3",
   "version": "3.8.0"
  }
 },
 "nbformat": 4,
 "nbformat_minor": 4
}
