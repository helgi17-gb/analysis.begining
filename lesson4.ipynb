{
 "cells": [
  {
   "cell_type": "markdown",
   "metadata": {},
   "source": [
    "# Практическое задание к уроку 4"
   ]
  },
  {
   "cell_type": "markdown",
   "metadata": {},
   "source": [
    "## Тема \"Предел функции\""
   ]
  },
  {
   "cell_type": "markdown",
   "metadata": {},
   "source": [
    "### Задание 1"
   ]
  },
  {
   "cell_type": "markdown",
   "metadata": {},
   "source": [
    "Предложить пример функции, не имеющей предела в нуле и в бесконечностях."
   ]
  },
  {
   "cell_type": "markdown",
   "metadata": {},
   "source": [
    "$$\\frac{e^{x^2}}{x}$$"
   ]
  },
  {
   "cell_type": "markdown",
   "metadata": {},
   "source": [
    "$\\displaystyle \\lim_{x\\to \\infty}\\frac{e^{x^2}}{x} = \\left(\\frac{\\infty}{\\infty}\\right)\\to +\\infty$ так как экспонента растет быстрее полиномиальной функции.\n",
    "\n",
    "$\\displaystyle \\lim_{x\\to +0}\\frac{e^{x^2}}{x} = \\left(\\frac{1}{+0}\\right)\\to +\\infty$\n",
    "\n",
    "$\\displaystyle \\lim_{x\\to +0}\\frac{e^{x^2}}{x} = \\left(\\frac{1}{-0}\\right)\\to -\\infty$"
   ]
  },
  {
   "cell_type": "markdown",
   "metadata": {},
   "source": [
    "### Задание 2"
   ]
  },
  {
   "cell_type": "markdown",
   "metadata": {},
   "source": [
    "Привести пример функции, не имеющей предела в точке, но определенной в ней."
   ]
  },
  {
   "cell_type": "markdown",
   "metadata": {},
   "source": [
    "$$f(x) =\n",
    "    \\begin{cases}\n",
    "        1/x & \\quad \\text{, если } x\\neq 0 \\text{,} \\\\\n",
    "        0 & \\quad \\text{, если } x=0 \\text{.}\n",
    "    \\end{cases}\n",
    "$$"
   ]
  },
  {
   "cell_type": "markdown",
   "metadata": {},
   "source": [
    "### Задание 3"
   ]
  },
  {
   "cell_type": "markdown",
   "metadata": {},
   "source": [
    "Исследовать функцию $f(x)=x^3-x^2$ по плану:\n",
    "\n",
    "a. Область задания и область значений.\n",
    "\n",
    "b. Нули функции и их кратность.\n",
    "\n",
    "c. Отрезки знакопостоянства.\n",
    "\n",
    "d. Интервалы монотонности.\n",
    "\n",
    "e. Четность функции.\n",
    "\n",
    "f. Ограниченность.\n",
    "\n",
    "g. Периодичность.\n"
   ]
  },
  {
   "cell_type": "markdown",
   "metadata": {},
   "source": [
    "a. **Область задания: $x\\in (-\\infty;+\\infty)$**. \n",
    "\n",
    "**Область значений: $f(x)\\in(-\\infty;+\\infty)$**.\n",
    "\n",
    "b. Нули функции и их кратность:\n",
    "\n",
    "$f(x)=x^3-x^2=x^2(x-1)$\n",
    "\n",
    "**$x_{1,2}=0$ (кратность 2), $x_3=1$ (кратность1)**.\n",
    "\n",
    "c. Отрезки знакопостоянства:\n",
    "\n",
    "**При $x\\in (-\\infty;1)$ $f(x)<0$**\n",
    "\n",
    "**При $x\\in(1;+\\infty)$ $f(x)>0$**\n",
    "\n",
    "d. Интервалы монотонности (придется воспользоваться производной):\n",
    "\n",
    "$f^{'}(x) = 3x^2-2x=x(3x-2)$. Экстремумы в $x=0$ и $x=2/3$\n",
    "\n",
    "**При $x\\in(-\\infty;0)$ и $x\\in(2/3;+\\infty)$ $f(x)$ монотонно возрастает**.\n",
    "\n",
    "**При $x\\in(0;2/3)$ $f(x)$ монотонно убывает**.\n",
    "\n",
    "e. Четность функции:\n",
    "\n",
    "$f(-x)=-x^3-2x^2\\neq f(x)$\n",
    "\n",
    "$f(-x)=-x^3-2x^2\\neq -f(x)$\n",
    "\n",
    "**Функция не является ни четной, ни нечетной**.\n",
    "\n",
    "f. Ограниченность:\n",
    "\n",
    "$\\lim_{x\\to+\\infty}f(x)\\to+\\infty$\n",
    "\n",
    "$\\lim_{x\\to-\\infty}f(x)\\to-\\infty$\n",
    "\n",
    "**Функция неограничена**.\n",
    "\n",
    "g. Периодичность:\n",
    "\n",
    "$\\forall x\\in(-\\infty;+\\infty)\\forall T\\neq 0:f(x+T)\\neq f(x)$ \n",
    "\n",
    "**Функция непериодическая**."
   ]
  },
  {
   "cell_type": "markdown",
   "metadata": {},
   "source": [
    "### Задание 4"
   ]
  },
  {
   "cell_type": "markdown",
   "metadata": {},
   "source": [
    "Найти предел"
   ]
  },
  {
   "cell_type": "markdown",
   "metadata": {},
   "source": [
    "a. $\\displaystyle \\lim_{x\\to0}\\frac{3x^3-2x^2}{4x^2}=\\lim_{x\\to0}\\left(\\frac{3x^3}{4x^2}-\\frac{2x^2}{4x^2}\\right)=\\lim_{x\\to0}\\left(\\frac{3}{4}x-\\frac{1}{2}\\right)=-\\frac{1}{2}$\n",
    "\n",
    "b. $\\displaystyle \\lim_{x\\to0}\\frac{\\sqrt{1+x}-1}{\\sqrt[3]{1+x}-1}=\\lim_{x\\to0}\\frac{\\left(\\sqrt[3]{1+x}-1\\right)\\left(\\sqrt[3]{(1+x)^2}+\\sqrt[3]{1+x}+1\\right)}{\\sqrt[3]{1+x}-1}=$\n",
    "\n",
    "$\\displaystyle =\\lim_{x\\to0}\\left(\\sqrt[3]{(1+x)^2}+\\sqrt[3]{1+x}+1\\right)=3$\n"
   ]
  },
  {
   "cell_type": "markdown",
   "metadata": {},
   "source": [
    "## Тема \"Теоремы о пределах\""
   ]
  },
  {
   "cell_type": "markdown",
   "metadata": {},
   "source": [
    "### Задание 1\n",
    "\n",
    "Найти предел:\n",
    "\n",
    "a. $\\displaystyle \\lim_{x\\to0}\\frac{sin(2x)}{4x}=\\lim_{x\\to0}\\frac{1}{2}\\frac{sin(2x)}{2x}=\\frac{1}{2}$\n",
    "\n",
    "b. $\\displaystyle \\lim_{x\\to0}\\frac{x}{sin(x)}=\\lim_{x\\to0}\\left(\\frac{sin(x)}{x}\\right)^{-1}=1^{-1}=1$\n",
    "\n",
    "c. $\\displaystyle \\lim_{x\\to0}\\frac{x}{arcsin(x)}=1$ из эквивалентности $arcsin(x)\\sim sin(x)$ \n",
    "\n",
    "Или подсмотренное в интернете: \n",
    "если $y=arcsin(x)$; $y\\to0$ при $x\\to0$. $x=sin(arcsin(x))=sin(y), x\\in[-1;1]$\n",
    "\n",
    "$\\displaystyle \\lim_{x\\to0}\\frac{x}{arcsin(x)}=\\lim_{y\\to0}\\frac{sin(y)}{y}=1$"
   ]
  },
  {
   "cell_type": "code",
   "execution_count": null,
   "metadata": {},
   "outputs": [],
   "source": []
  }
 ],
 "metadata": {
  "kernelspec": {
   "display_name": "Python 3",
   "language": "python",
   "name": "python3"
  },
  "language_info": {
   "codemirror_mode": {
    "name": "ipython",
    "version": 3
   },
   "file_extension": ".py",
   "mimetype": "text/x-python",
   "name": "python",
   "nbconvert_exporter": "python",
   "pygments_lexer": "ipython3",
   "version": "3.8.0"
  }
 },
 "nbformat": 4,
 "nbformat_minor": 4
}
